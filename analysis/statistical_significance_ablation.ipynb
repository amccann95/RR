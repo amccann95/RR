{
 "cells": [
  {
   "cell_type": "code",
   "execution_count": 1,
   "id": "0212fec8",
   "metadata": {},
   "outputs": [],
   "source": [
    "import os\n",
    "import numpy as np\n",
    "from scipy.stats import mode\n",
    "import matplotlib.pyplot as plt\n",
    "from lib import loadmat\n",
    "\n",
    "ROOT = 'C:/Users/amcca/switchdrive/PhD/RR/'\n",
    "OUTCOME_TYPE = 'clinical'  \n",
    "OUTCOME_GROUP = 'AR'"
   ]
  },
  {
   "cell_type": "markdown",
   "id": "f1d0c66f",
   "metadata": {},
   "source": [
    "# Import data\n",
    "Import data from matlab and put into dictionary/matrix"
   ]
  },
  {
   "cell_type": "code",
   "execution_count": 2,
   "id": "e7dfa724",
   "metadata": {},
   "outputs": [],
   "source": [
    "tau = 1\n",
    "m = 2\n",
    "coef = 0.10\n",
    "\n",
    "# load in matlab data with appropriate params\n",
    "filename = 'tau' + str(tau) + '_dim' + str(m) + '_coef' + str(coef) + '.mat'\n",
    "bl_mat = loadmat(ROOT + 'data/rr_indices/baseline/' + filename)\n",
    "end_mat = loadmat(ROOT + 'data/rr_indices/end ablation/' + filename)\n",
    "\n",
    "# get each AF complexity index in column, each row corresponds to one patient only\n",
    "data_dict_bl = bl_mat['rr_indices_struct']\n",
    "data_matrix_bl = np.stack(list(data_dict_bl.values())).transpose()\n",
    "feat_names = data_dict_bl.keys()\n",
    "\n",
    "data_dict_end = end_mat['rr_indices_struct']\n",
    "data_matrix_end = np.stack(list(data_dict_end.values())).transpose()\n",
    "\n",
    "# for clinical outcomes, SR=1, AR=0\n",
    "y_clin = np.array([0, 0, 0, 1, 1, 0, 0, 0, 0, 0, 0, 0, 0, 1, 0, 1, 0, 0, 0, 1, 0, 0, 1, 0, 0, 0, 0, 1, 1, 0, 0, 0, 0, 0, 0, 0, 0, 0, 0, 0])\n",
    "# for procedural outcomes, LT=1, NT=0\n",
    "y_proc=np.array([1, 0, 1, 1, 1, 0, 0, 0, 1, 1, 0, 0, 1, 1, 1, 1, 1, 1, 1, 1, 1, 1, 1, 0, 0, 1, 1, 1, 1, 0, 1, 0, 1, 1, 1, 0, 0, 1, 1, 1])\n",
    "\n",
    "Xbl = data_matrix_bl\n",
    "Xend = data_matrix_end\n",
    "\n",
    "# extract indices of data matrix to keep, based on outcome type and group desired\n",
    "if OUTCOME_TYPE == 'clinical':\n",
    "    if OUTCOME_GROUP == 'SR':\n",
    "        keep_idx = np.nonzero(y_clin==1)[0]\n",
    "    elif OUTCOME_GROUP == 'AR':\n",
    "        keep_idx = np.nonzero(y_clin==0)[0]\n",
    "elif OUTCOME_TYPE == 'procedural':\n",
    "    if OUTCOME_GROUP == 'LT':\n",
    "        keep_idx = np.nonzero(y_proc==1)[0]\n",
    "    elif OUTCOME_GROUP == 'NT':\n",
    "        keep_idx = np.nonzero(y_proc==0)[0]\n",
    "        \n",
    "Xbl = Xbl[keep_idx,:]\n",
    "Xend = Xend[keep_idx,:]"
   ]
  },
  {
   "cell_type": "code",
   "execution_count": 3,
   "id": "fae552f4",
   "metadata": {},
   "outputs": [
    {
     "data": {
      "text/plain": [
       "dict_keys(['rec', 'det', 'ent', 'div', 'sampen', 'pnn20', 'pnn50', 'sdnn', 'rmssd'])"
      ]
     },
     "execution_count": 3,
     "metadata": {},
     "output_type": "execute_result"
    }
   ],
   "source": [
    "feat_names"
   ]
  },
  {
   "cell_type": "markdown",
   "id": "8a0cf7f4",
   "metadata": {},
   "source": [
    "## Statistical significance: baseline to end ablation\n",
    "The purpose of this notebook is to find which RR interval indices (features) have significantly different values prior to ablation (baseline) and at the end of ablation, within the same patient group. Find which features are most discriminative across cross-validated folds, using one-way ANOVA or rank-sums for statistically significant differences in means between groups."
   ]
  },
  {
   "cell_type": "code",
   "execution_count": 4,
   "id": "a4a33d61",
   "metadata": {},
   "outputs": [],
   "source": [
    "from sklearn.model_selection import ShuffleSplit\n",
    "from statsmodels.stats.diagnostic import lilliefors\n",
    "from scipy.stats import ranksums\n",
    "from sklearn.feature_selection import f_classif\n",
    "  \n",
    "# create cross-validation folds\n",
    "n_folds = 3\n",
    "ss = ShuffleSplit(n_splits=n_folds, test_size=0.2, random_state=0)\n",
    "fnorm = []\n",
    "pnorm = []\n",
    "\n",
    "plillie_bl = np.zeros((n_folds, len(feat_names)))\n",
    "plillie_end = np.zeros((n_folds, len(feat_names)))\n",
    "prank = np.zeros((n_folds, len(feat_names)))\n",
    "\n",
    "for i, (train, test) in enumerate(ss.split(Xbl)):\n",
    "        # enumerate over data folds and features\n",
    "        for k, feat_name in enumerate(feat_names):\n",
    "            # use lilliefors statistic to determine whether data dist normal. If returned\n",
    "            # p-value is lower than some threshold (e.g. 0.05), then reject null hypothesis\n",
    "            # that data are normally distributed\n",
    "            ksstat_x, plillie_bl[i,k] = lilliefors(Xbl[train,k], dist='norm')\n",
    "            ksstat_x, plillie_end[i,k] = lilliefors(Xend[train,k], dist='norm')\n",
    "            \n",
    "            # calculate ranksum statistic\n",
    "            statistic, prank[i,k] = ranksums(Xbl[train,k], Xend[train,k])\n",
    "            \n",
    "        X = np.vstack([Xbl[train,:], Xend[train,:]])\n",
    "        y = np.concatenate([np.zeros(len(train)), np.ones(len(train))])\n",
    "        # calculate anova p-values for all features in fold, and append\n",
    "        f_fold, p_fold = f_classif(X, y)\n",
    "        fnorm.append(f_fold)\n",
    "        pnorm.append(p_fold)\n",
    "        \n",
    "# calculate mean lilliefors/p-values across folds\n",
    "fnorm = np.vstack(fnorm)\n",
    "pnorm = np.vstack(pnorm)\n",
    "            \n",
    "mean_f = np.mean(fnorm, axis=0)\n",
    "mean_plillie_bl = np.mean(plillie_bl, axis=0)\n",
    "mean_plillie_end = np.mean(plillie_end, axis=0)\n",
    "mean_pnorm = np.mean(pnorm, axis=0)\n",
    "mean_prank = np.mean(prank, axis=0)\n",
    "\n",
    "# calculate mean and std of baseline and end ablation data\n",
    "mean_Xbl = np.mean(Xbl, axis=0)\n",
    "mean_Xend = np.mean(Xend, axis=0)\n",
    "std_Xbl = np.std(Xbl, axis=0)\n",
    "std_Xend = np.std(Xend, axis=0)"
   ]
  },
  {
   "cell_type": "markdown",
   "id": "9a6ddd53",
   "metadata": {},
   "source": [
    "## Feature statistical significance\n",
    "Inspect mean/std of features values in each group, along with p-value (either rank-sum or ANOVA)."
   ]
  },
  {
   "cell_type": "code",
   "execution_count": 5,
   "id": "4612bcf5",
   "metadata": {},
   "outputs": [
    {
     "name": "stdout",
     "output_type": "stream",
     "text": [
      "+---------------------------------------------+\n",
      "|         Clinical outcomes: AR group         |\n",
      "+---------+----------+--------------+---------+\n",
      "| Feature | baseline | end ablation | p-anova |\n",
      "+---------+----------+--------------+---------+\n",
      "|   rec   |  0.0088  |    0.0104    |  0.3260 |\n",
      "|   det   |  0.1659  |    0.2058    |  0.0244 |\n",
      "|   ent   |  0.4599  |    0.5572    |  0.0190 |\n",
      "|   div   |  0.3138  |    0.2529    |  0.0102 |\n",
      "|  sampen |  2.6869  |    2.4689    |  0.0470 |\n",
      "|  pnn20  |  0.4486  |    0.4067    |  0.0025 |\n",
      "|  pnn50  |  0.3926  |    0.3222    |  0.0002 |\n",
      "|   sdnn  | 186.6946 |   118.9003   |  0.0000 |\n",
      "|  rmssd  | 267.4680 |   161.2253   |  0.0000 |\n",
      "+---------+----------+--------------+---------+\n",
      "+-----------------------------------------------------+\n",
      "|             Clinical outcomes: AR group             |\n",
      "+---------+--------------+------------------+---------+\n",
      "| Feature | std baseline | std end ablation | p-anova |\n",
      "+---------+--------------+------------------+---------+\n",
      "|   rec   |    0.0045    |      0.0071      |  0.3260 |\n",
      "|   det   |    0.0532    |      0.0722      |  0.0244 |\n",
      "|   ent   |    0.1226    |      0.1670      |  0.0190 |\n",
      "|   div   |    0.0866    |      0.0671      |  0.0102 |\n",
      "|  sampen |    0.3742    |      0.4007      |  0.0470 |\n",
      "|  pnn20  |    0.0381    |      0.0492      |  0.0025 |\n",
      "|  pnn50  |    0.0507    |      0.0683      |  0.0002 |\n",
      "|   sdnn  |   51.1298    |     42.8159      |  0.0000 |\n",
      "|  rmssd  |   76.2242    |     55.8527      |  0.0000 |\n",
      "+---------+--------------+------------------+---------+\n"
     ]
    }
   ],
   "source": [
    "from prettytable import PrettyTable\n",
    "\n",
    "# extract indices of data matrix to keep, based on outcome type and group desired\n",
    "if OUTCOME_TYPE == 'clinical':\n",
    "    if OUTCOME_GROUP == 'SR':\n",
    "        title_string = 'Clinical outcomes: SR group'\n",
    "    elif OUTCOME_GROUP == 'AR':\n",
    "        title_string = 'Clinical outcomes: AR group'\n",
    "elif OUTCOME_TYPE == 'procedural':\n",
    "    if OUTCOME_GROUP == 'LT':\n",
    "        title_string = 'Procedural outcomes: LT group'\n",
    "    elif OUTCOME_GROUP == 'NT':\n",
    "        title_string = 'Procedural outcomes: NT group'\n",
    "\n",
    "# table with mean values\n",
    "t = PrettyTable(['Feature', 'baseline', 'end ablation', 'p-anova'])\n",
    "for i, feat_name in enumerate(feat_names):\n",
    "    t.add_row([feat_name, mean_Xbl[i], mean_Xend[i], mean_pnorm[i]])\n",
    "\n",
    "t.title = title_string\n",
    "t.float_format = '0.4'\n",
    "print(t)\n",
    "\n",
    "# table with standard deviation values\n",
    "t = PrettyTable(['Feature', 'std baseline', 'std end ablation', 'p-anova'])\n",
    "for i, feat_name in enumerate(feat_names):\n",
    "    t.add_row([feat_name, std_Xbl[i], std_Xend[i], mean_pnorm[i]])\n",
    "\n",
    "t.title = title_string\n",
    "t.float_format = '0.4'\n",
    "print(t)"
   ]
  },
  {
   "cell_type": "code",
   "execution_count": null,
   "id": "60de7008",
   "metadata": {},
   "outputs": [],
   "source": []
  },
  {
   "cell_type": "code",
   "execution_count": null,
   "id": "3e373de1",
   "metadata": {},
   "outputs": [],
   "source": []
  },
  {
   "cell_type": "code",
   "execution_count": null,
   "id": "4bbe11d9",
   "metadata": {},
   "outputs": [],
   "source": []
  }
 ],
 "metadata": {
  "kernelspec": {
   "display_name": "Python 3 (ipykernel)",
   "language": "python",
   "name": "python3"
  },
  "language_info": {
   "codemirror_mode": {
    "name": "ipython",
    "version": 3
   },
   "file_extension": ".py",
   "mimetype": "text/x-python",
   "name": "python",
   "nbconvert_exporter": "python",
   "pygments_lexer": "ipython3",
   "version": "3.7.11"
  }
 },
 "nbformat": 4,
 "nbformat_minor": 5
}
