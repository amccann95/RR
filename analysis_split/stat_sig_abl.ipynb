{
 "cells": [
  {
   "cell_type": "code",
   "execution_count": 1,
   "id": "427cdf98",
   "metadata": {},
   "outputs": [],
   "source": [
    "import os\n",
    "import numpy as np\n",
    "from scipy.stats import mode\n",
    "import matplotlib.pyplot as plt\n",
    "from lib_split import loadmat\n",
    "\n",
    "ROOT = 'C:/Users/amcca/switchdrive/PhD/RR/'\n",
    "OUTCOME_TYPE = 'procedural'\n",
    "OUTCOME_GROUP = 'LT'"
   ]
  },
  {
   "cell_type": "markdown",
   "id": "ff23785b",
   "metadata": {},
   "source": [
    "### Import data\n",
    "Import data from matlab and put into dictionary/matrix"
   ]
  },
  {
   "cell_type": "code",
   "execution_count": 2,
   "id": "22bfa770",
   "metadata": {},
   "outputs": [],
   "source": [
    "tau = 1\n",
    "m = 2\n",
    "coef = 0.1\n",
    "\n",
    "# load in matlab data with appropriate params\n",
    "filename = 'tau' + str(tau) + '_dim' + str(m) + '_coef' + str(coef) + '.mat'\n",
    "bl_mat = loadmat(ROOT + 'data_split/rr_indices/baseline/' + filename)\n",
    "end_mat = loadmat(ROOT + 'data_split/rr_indices/end ablation/' + filename)\n",
    "\n",
    "# get each AF complexity index in column, each row corresponds to one patient/file combo only\n",
    "data_dict_bl = bl_mat['rr_indices_struct']\n",
    "feat_names = data_dict_bl.keys()\n",
    "data_matrix_bl = np.stack(list(data_dict_bl.values())).transpose()\n",
    "Xbl = data_matrix_bl\n",
    "\n",
    "data_dict_end = end_mat['rr_indices_struct']\n",
    "data_matrix_end = np.stack(list(data_dict_end.values())).transpose()\n",
    "Xend = data_matrix_end\n",
    "\n",
    "# for clinical outcomes, SR=1, AR=0\n",
    "y_clin = np.array([0, 0, 0, 1, 1, 0, 0, 0, 0, 0, 0, 0, 0, 1, 0, 1, 0, 0, 0, 1, 0, 0, 1, 0, 0, 0, 0, 1, 1, 0, 0, 0, 0, 0, 0, 0, 0, 0, 0, 0])\n",
    "# for procedural outcomes, LT=1, NT=0\n",
    "y_proc=np.array([1, 0, 1, 1, 1, 0, 0, 0, 1, 1, 0, 0, 1, 1, 1, 1, 1, 1, 1, 1, 1, 1, 1, 0, 0, 1, 1, 1, 1, 0, 1, 0, 1, 1, 1, 0, 0, 1, 1, 1])"
   ]
  },
  {
   "cell_type": "markdown",
   "id": "9d3f40ce",
   "metadata": {},
   "source": [
    "### account for multiples files per patient\n",
    "There are several RR segments and associated metrics/outcomes per patient"
   ]
  },
  {
   "cell_type": "code",
   "execution_count": 3,
   "id": "7c703d4e",
   "metadata": {},
   "outputs": [],
   "source": [
    "pts = np.arange(1,42)\n",
    "pts = np.delete(pts, 32)\n",
    "n_pts = len(pts)\n",
    "n_files_per_pt = 5\n",
    "pt_file_idx = 0\n",
    "\n",
    "if OUTCOME_TYPE == 'clinical':\n",
    "    y_tmp = y_clin\n",
    "elif OUTCOME_TYPE == 'procedural':\n",
    "    y_tmp = y_proc\n",
    "\n",
    "# several RR segments for each patient\n",
    "group = np.zeros((n_pts*n_files_per_pt))\n",
    "y = np.zeros((n_pts*n_files_per_pt))\n",
    "\n",
    "# replicate outcome and group n_file_per_pt number of times\n",
    "for pt_idx in range(n_pts):\n",
    "    for file_nb in range(n_files_per_pt):\n",
    "        y[pt_file_idx] = y_tmp[pt_idx]\n",
    "        group[pt_file_idx] = pts[pt_idx]\n",
    "        pt_file_idx += 1\n",
    "        \n",
    "# extract indices of data matrix to keep, based on outcome type and group desired\n",
    "if OUTCOME_TYPE == 'clinical':\n",
    "    if OUTCOME_GROUP == 'SR':\n",
    "        keep_idx = np.nonzero(y==1)[0]\n",
    "    elif OUTCOME_GROUP == 'AR':\n",
    "        keep_idx = np.nonzero(y==0)[0]\n",
    "elif OUTCOME_TYPE == 'procedural':\n",
    "    if OUTCOME_GROUP == 'LT':\n",
    "        keep_idx = np.nonzero(y==1)[0]\n",
    "    elif OUTCOME_GROUP == 'NT':\n",
    "        keep_idx = np.nonzero(y==0)[0]\n",
    "        \n",
    "Xbl = Xbl[keep_idx,:]\n",
    "Xend = Xend[keep_idx,:]\n",
    "group = group[keep_idx]"
   ]
  },
  {
   "cell_type": "markdown",
   "id": "7d3cfb21",
   "metadata": {},
   "source": [
    "### Statistical significance: baseline to end ablation\n",
    "The purpose of this notebook is to find which RR interval indices (features) have sig different values prior to ablation (baseline) and at the end of ablation, within the same patient group. Find which features are most discriminative across cross-validated folds, using one-way ANOVA or rank-sums for statistically sig differences in means between groups."
   ]
  },
  {
   "cell_type": "code",
   "execution_count": 4,
   "id": "b7bb1f3a",
   "metadata": {},
   "outputs": [],
   "source": [
    "from sklearn.metrics import auc\n",
    "from sklearn.metrics import RocCurveDisplay\n",
    "from sklearn.model_selection import StratifiedKFold\n",
    "from sklearn.model_selection import GroupShuffleSplit\n",
    "from sklearn.feature_selection import SelectKBest, f_classif\n",
    "from statsmodels.stats.diagnostic import lilliefors\n",
    "from scipy.stats import ranksums"
   ]
  },
  {
   "cell_type": "code",
   "execution_count": 5,
   "id": "81e7e099",
   "metadata": {},
   "outputs": [],
   "source": [
    "n_folds = 3\n",
    "gss = GroupShuffleSplit(n_splits=n_folds, test_size=0.2, random_state=0)\n",
    "fnorm = []\n",
    "pnorm = []\n",
    "\n",
    "plillie_bl = np.zeros((n_folds, len(feat_names)))\n",
    "plillie_end = np.zeros((n_folds, len(feat_names)))\n",
    "prank = np.zeros((n_folds, len(feat_names)))\n",
    "\n",
    "\n",
    "for i, (train, test) in enumerate(gss.split(Xbl, groups=group)):\n",
    "        # enumerate over data folds and features\n",
    "        for k, feat_name in enumerate(feat_names):\n",
    "            # use lilliefors statistic to determine whether data dist normal. If returned\n",
    "            # p-value is lower than some threshold (e.g. 0.05), then reject null hypothesis\n",
    "            # that data are normally distributed\n",
    "            ksstat_x, plillie_bl[i,k] = lilliefors(np.concatenate((Xbl[train,k],Xend[train,k])), dist='norm')\n",
    "            ksstat_x, plillie_end[i,k] = lilliefors(Xend[train,k], dist='norm')\n",
    "            \n",
    "            # calculate ranksum statistic\n",
    "            statistic, prank[i,k] = ranksums(Xbl[train,k], Xend[train,k])\n",
    "            \n",
    "        X = np.vstack([Xbl[train,:], Xend[train,:]])\n",
    "        y_tmp = np.concatenate([np.zeros(len(train)), np.ones(len(train))])\n",
    "        # calculate anova p-values for all features in fold, and append\n",
    "        f_fold, p_fold = f_classif(X, y_tmp)\n",
    "        fnorm.append(f_fold)\n",
    "        pnorm.append(p_fold)\n",
    "        \n",
    "# calculate mean lilliefors/p-values across folds\n",
    "fnorm = np.vstack(fnorm)\n",
    "pnorm = np.vstack(pnorm)\n",
    "            \n",
    "mean_f = np.mean(fnorm, axis=0)\n",
    "mean_plillie_bl = np.mean(plillie_bl, axis=0)\n",
    "mean_plillie_end = np.mean(plillie_end, axis=0)\n",
    "mean_pnorm = np.mean(pnorm, axis=0)\n",
    "mean_prank = np.mean(prank, axis=0)\n",
    "\n",
    "# calculate mean and std of baseline and end ablation data\n",
    "mean_Xbl = np.mean(Xbl, axis=0)\n",
    "mean_Xend = np.mean(Xend, axis=0)\n",
    "std_Xbl = np.std(Xbl, axis=0)\n",
    "std_Xend = np.std(Xend, axis=0)"
   ]
  },
  {
   "cell_type": "markdown",
   "id": "54969f44",
   "metadata": {},
   "source": [
    "## Feature statistical significance\n",
    "Inspect mean/std of features values in each group, along with p-value (either rank-sum or ANOVA)."
   ]
  },
  {
   "cell_type": "code",
   "execution_count": 6,
   "id": "d007300f",
   "metadata": {},
   "outputs": [
    {
     "name": "stdout",
     "output_type": "stream",
     "text": [
      "+----------------------------------------------------------------+\n",
      "|                 Procedural outcomes: LT group                  |\n",
      "+---------+----------+--------------+---------+--------+---------+\n",
      "| Feature | baseline | end ablation | p-anova | p-rank | plillie |\n",
      "+---------+----------+--------------+---------+--------+---------+\n",
      "|   rec   |  0.0091  |    0.0218    |  0.0007 | 0.0084 |  0.0010 |\n",
      "|   det   |  0.1660  |    0.2564    |  0.0001 | 0.0005 |  0.0016 |\n",
      "|   div   |  0.5576  |    0.4128    |  0.0001 | 0.0000 |  0.0010 |\n",
      "|  sampen |  4.1327  |    2.9825    |  0.0016 | 0.0015 |  0.0010 |\n",
      "|  pnn20  |  0.4400  |    0.3824    |  0.0000 | 0.0000 |  0.1830 |\n",
      "|  pnn50  |  0.3788  |    0.2937    |  0.0000 | 0.0000 |  0.0123 |\n",
      "|   sdnn  | 170.6555 |   114.2952   |  0.0000 | 0.0000 |  0.0581 |\n",
      "|  rmssd  | 242.1081 |   155.3529   |  0.0000 | 0.0000 |  0.0636 |\n",
      "+---------+----------+--------------+---------+--------+---------+\n",
      "+-----------------------------------------------------+\n",
      "|            Procedural outcomes: LT group            |\n",
      "+---------+--------------+------------------+---------+\n",
      "| Feature | std baseline | std end ablation | p-anova |\n",
      "+---------+--------------+------------------+---------+\n",
      "|   rec   |    0.0045    |      0.0412      |  0.0007 |\n",
      "|   det   |    0.1149    |      0.1876      |  0.0001 |\n",
      "|   div   |    0.2401    |      0.2108      |  0.0001 |\n",
      "|  sampen |    2.5890    |      2.2136      |  0.0016 |\n",
      "|  pnn20  |    0.0546    |      0.0621      |  0.0000 |\n",
      "|  pnn50  |    0.0661    |      0.0786      |  0.0000 |\n",
      "|   sdnn  |   46.6113    |     50.9256      |  0.0000 |\n",
      "|  rmssd  |   72.9347    |     70.2033      |  0.0000 |\n",
      "+---------+--------------+------------------+---------+\n"
     ]
    }
   ],
   "source": [
    "from prettytable import PrettyTable\n",
    "\n",
    "# extract indices of data matrix to keep, based on outcome type and group desired\n",
    "if OUTCOME_TYPE == 'clinical':\n",
    "    if OUTCOME_GROUP == 'SR':\n",
    "        title_string = 'Clinical outcomes: SR group'\n",
    "    elif OUTCOME_GROUP == 'AR':\n",
    "        title_string = 'Clinical outcomes: AR group'\n",
    "elif OUTCOME_TYPE == 'procedural':\n",
    "    if OUTCOME_GROUP == 'LT':\n",
    "        title_string = 'Procedural outcomes: LT group'\n",
    "    elif OUTCOME_GROUP == 'NT':\n",
    "        title_string = 'Procedural outcomes: NT group'\n",
    "\n",
    "# table with mean values\n",
    "t = PrettyTable(['Feature', 'baseline', 'end ablation', 'p-anova', 'p-rank', 'plillie'])\n",
    "for i, feat_name in enumerate(feat_names):\n",
    "    t.add_row([feat_name, mean_Xbl[i], mean_Xend[i], mean_pnorm[i], mean_prank[i], mean_plillie_bl[i]])\n",
    "\n",
    "t.title = title_string\n",
    "t.float_format = '0.4'\n",
    "print(t)\n",
    "\n",
    "# table with standard deviation values\n",
    "t = PrettyTable(['Feature', 'std baseline', 'std end ablation', 'p-anova'])\n",
    "for i, feat_name in enumerate(feat_names):\n",
    "    t.add_row([feat_name, std_Xbl[i], std_Xend[i], mean_pnorm[i]])\n",
    "\n",
    "t.title = title_string\n",
    "t.float_format = '0.4'\n",
    "print(t)"
   ]
  },
  {
   "cell_type": "code",
   "execution_count": null,
   "id": "18b4d056",
   "metadata": {},
   "outputs": [],
   "source": []
  },
  {
   "cell_type": "code",
   "execution_count": null,
   "id": "ec4320cb",
   "metadata": {},
   "outputs": [],
   "source": []
  }
 ],
 "metadata": {
  "kernelspec": {
   "display_name": "Python 3 (ipykernel)",
   "language": "python",
   "name": "python3"
  },
  "language_info": {
   "codemirror_mode": {
    "name": "ipython",
    "version": 3
   },
   "file_extension": ".py",
   "mimetype": "text/x-python",
   "name": "python",
   "nbconvert_exporter": "python",
   "pygments_lexer": "ipython3",
   "version": "3.7.11"
  }
 },
 "nbformat": 4,
 "nbformat_minor": 5
}
